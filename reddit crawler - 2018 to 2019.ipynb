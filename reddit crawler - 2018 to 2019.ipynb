{
 "cells": [
  {
   "cell_type": "code",
   "execution_count": 1,
   "id": "04878901",
   "metadata": {},
   "outputs": [
    {
     "name": "stdout",
     "output_type": "stream",
     "text": [
      "Requirement already satisfied: praw in c:\\users\\s\\anaconda3\\lib\\site-packages (7.7.0)\n",
      "Requirement already satisfied: update-checker>=0.18 in c:\\users\\s\\anaconda3\\lib\\site-packages (from praw) (0.18.0)\n",
      "Requirement already satisfied: prawcore<3,>=2.1 in c:\\users\\s\\anaconda3\\lib\\site-packages (from praw) (2.3.0)\n",
      "Requirement already satisfied: websocket-client>=0.54.0 in c:\\users\\s\\anaconda3\\lib\\site-packages (from praw) (1.5.1)\n",
      "Requirement already satisfied: requests<3.0,>=2.6.0 in c:\\users\\s\\anaconda3\\lib\\site-packages (from prawcore<3,>=2.1->praw) (2.30.0)\n",
      "Requirement already satisfied: charset-normalizer<4,>=2 in c:\\users\\s\\anaconda3\\lib\\site-packages (from requests<3.0,>=2.6.0->prawcore<3,>=2.1->praw) (2.0.4)\n",
      "Requirement already satisfied: urllib3<3,>=1.21.1 in c:\\users\\s\\anaconda3\\lib\\site-packages (from requests<3.0,>=2.6.0->prawcore<3,>=2.1->praw) (1.26.7)\n",
      "Requirement already satisfied: certifi>=2017.4.17 in c:\\users\\s\\anaconda3\\lib\\site-packages (from requests<3.0,>=2.6.0->prawcore<3,>=2.1->praw) (2021.10.8)\n",
      "Requirement already satisfied: idna<4,>=2.5 in c:\\users\\s\\anaconda3\\lib\\site-packages (from requests<3.0,>=2.6.0->prawcore<3,>=2.1->praw) (3.2)\n",
      "Note: you may need to restart the kernel to use updated packages.\n"
     ]
    }
   ],
   "source": [
    "pip install praw"
   ]
  },
  {
   "cell_type": "code",
   "execution_count": 6,
   "id": "ec3aa483",
   "metadata": {},
   "outputs": [
    {
     "name": "stdout",
     "output_type": "stream",
     "text": [
      "Results saved to travelphotos.csv\n"
     ]
    }
   ],
   "source": [
    "import praw\n",
    "import csv\n",
    "\n",
    "# Define your Reddit API credentials\n",
    "client_id = '2ruEwSsmML0zKBHhyz8L4Q'\n",
    "client_secret = 'NNgN_l2U-wgDbG-PpkrSPFeuBHUdIg'\n",
    "user_agent = 'Travel 3.1 by /u/DapperWitness6024'\n",
    "username = 'Enter_Username'\n",
    "password = 'Enter_Password'\n",
    "\n",
    "# Authenticate with the Reddit API\n",
    "reddit = praw.Reddit(client_id=client_id,\n",
    "                     client_secret=client_secret,\n",
    "                     user_agent=user_agent,\n",
    "                     username=username,\n",
    "                     password=password)\n",
    "\n",
    "# Define the subreddit you want to crawl\n",
    "subreddit_name = 'travel'\n",
    "\n",
    "# Define the time period of data collection\n",
    "start_epoch = 1546300800  # 01-01-2018 00:00:00 (GMT)\n",
    "end_epoch = 1577836799  # 12-31-2019 23:59:59 (GMT)\n",
    "\n",
    "# Define the geographic location of your target audience (optional)\n",
    "# Example: target_location = 'unitedkingdom'\n",
    "target_location = None\n",
    "\n",
    "# Define a list to store the results\n",
    "results = []\n",
    "\n",
    "# Get the top posts from the subreddit within the specified time period\n",
    "for submission in reddit.subreddit(subreddit_name).top(time_filter='all', limit=None):\n",
    "    # Check if the post is within the specified time period\n",
    "    if submission.created_utc < start_epoch or submission.created_utc > end_epoch:\n",
    "        continue\n",
    "    # Check if the post is from the target location (if specified)\n",
    "    if target_location and target_location.lower() not in submission.title.lower():\n",
    "        continue\n",
    "    # Convert created_utc to datetime\n",
    "    created_date = datetime.utcfromtimestamp(submission.created_utc).strftime('%Y-%m-%d')\n",
    "    \n",
    "    # Collect metadata for each post\n",
    "    metadata = {\n",
    "        'title': submission.title,\n",
    "        'score': submission.score,\n",
    "        'author': submission.author.name if submission.author else 'Unknown',\n",
    "        'created_date': created_date,\n",
    "        'url': submission.url,\n",
    "        'num_comments': submission.num_comments\n",
    "        # Add more metadata fields as needed\n",
    "    }\n",
    "    \n",
    "    # Store the metadata in the results list\n",
    "    results.append(metadata)\n",
    "\n",
    "# Save the results into a CSV file\n",
    "with open('travel.csv', 'w', encoding='utf-8', newline='') as file:\n",
    "    fieldnames = ['title', 'score', 'author', 'created_date', 'url', 'num_comments']\n",
    "    writer = csv.DictWriter(file, fieldnames=fieldnames)\n",
    "    writer.writeheader()\n",
    "    writer.writerows(results)\n",
    "\n",
    "print('Results saved to travel.csv')\n"
   ]
  },
  {
   "cell_type": "code",
   "execution_count": null,
   "id": "334a650d",
   "metadata": {},
   "outputs": [],
   "source": []
  }
 ],
 "metadata": {
  "kernelspec": {
   "display_name": "Python 3 (ipykernel)",
   "language": "python",
   "name": "python3"
  },
  "language_info": {
   "codemirror_mode": {
    "name": "ipython",
    "version": 3
   },
   "file_extension": ".py",
   "mimetype": "text/x-python",
   "name": "python",
   "nbconvert_exporter": "python",
   "pygments_lexer": "ipython3",
   "version": "3.9.7"
  }
 },
 "nbformat": 4,
 "nbformat_minor": 5
}
